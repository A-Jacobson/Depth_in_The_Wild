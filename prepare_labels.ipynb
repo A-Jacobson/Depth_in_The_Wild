{
 "cells": [
  {
   "cell_type": "code",
   "execution_count": 1,
   "metadata": {
    "collapsed": true
   },
   "outputs": [],
   "source": [
    "from PIL import Image\n",
    "import pandas as pd\n",
    "import numpy as np\n",
    "import pickle as pkl"
   ]
  },
  {
   "cell_type": "code",
   "execution_count": 2,
   "metadata": {
    "collapsed": true
   },
   "outputs": [],
   "source": [
    "path = '/home/austin/data/NYU/'"
   ]
  },
  {
   "cell_type": "markdown",
   "metadata": {},
   "source": [
    "- To get data:\n",
    "\n",
    "- wget https://vl-lab.eecs.umich.edu/data/nips2016/data.tar.gz\n",
    "- I changed my directory names to train_labels, val_labels, test_labels\n"
   ]
  },
  {
   "cell_type": "code",
   "execution_count": 3,
   "metadata": {
    "collapsed": true
   },
   "outputs": [],
   "source": [
    "def convert_depth(x):\n",
    "    if x == '>':\n",
    "        return 1\n",
    "    elif x == '<':\n",
    "        return -1\n",
    "    else:\n",
    "        return 0"
   ]
  },
  {
   "cell_type": "code",
   "execution_count": 4,
   "metadata": {
    "collapsed": true
   },
   "outputs": [],
   "source": [
    "def convert_labels(path):\n",
    "    raw_labels = pd.read_csv(path, header=None, skiprows=1)\n",
    "    names = raw_labels[raw_labels[0].apply(lambda x: x[0] == '.')]\n",
    "    raw_labels[4] = raw_labels[4].apply(convert_depth)\n",
    "    labels = []\n",
    "    for i in range(len(names.index)):\n",
    "        if i+1 >=len(names.index):\n",
    "            points = raw_labels[names.index[i]+1:].values.astype('float32')\n",
    "        else:\n",
    "            points = raw_labels[names.index[i]+1:names.index[i+1]].values.astype('float32')\n",
    "        label = {}\n",
    "        label['name'] = names.iloc[i][0].split('/')[-1]\n",
    "        label['x_A'] = points[:, 0]\n",
    "        label['y_A'] = points[:, 1]\n",
    "        label['x_B'] = points[:, 2]\n",
    "        label['y_B'] = points[:, 3]\n",
    "        label['ordinal_relation'] = points[:, 4]\n",
    "        if len(points) != 800:\n",
    "            continue\n",
    "        labels.append(label)\n",
    "    return labels"
   ]
  },
  {
   "cell_type": "code",
   "execution_count": 5,
   "metadata": {
    "collapsed": true
   },
   "outputs": [],
   "source": [
    "def save(obj, path):\n",
    "    with open(path, 'wb') as f:\n",
    "        pkl.dump(obj, f)\n",
    "        \n",
    "def load(path):\n",
    "    with open(path, 'rb') as f:\n",
    "        return pkl.load(f)  "
   ]
  },
  {
   "cell_type": "code",
   "execution_count": 6,
   "metadata": {
    "collapsed": true
   },
   "outputs": [],
   "source": [
    "labels = convert_labels(path+'train_labels.csv')\n",
    "labels_val = convert_labels(path+'val_labels.csv')\n",
    "labels_test = convert_labels(path+'test_labels.csv')"
   ]
  },
  {
   "cell_type": "code",
   "execution_count": 7,
   "metadata": {
    "collapsed": true
   },
   "outputs": [],
   "source": [
    "save(labels, path+'labels_train.pkl')\n",
    "save(labels_val, path+'labels_val.pkl')\n",
    "save(labels_test, path+'labels_test.pkl')"
   ]
  },
  {
   "cell_type": "code",
   "execution_count": 8,
   "metadata": {
    "collapsed": true
   },
   "outputs": [],
   "source": [
    "labels = load(path+'labels_train.pkl')\n",
    "labels_val = load(path+'labels_val.pkl')\n",
    "labels_test = load(path+'labels_test.pkl')"
   ]
  },
  {
   "cell_type": "code",
   "execution_count": null,
   "metadata": {},
   "outputs": [],
   "source": []
  },
  {
   "cell_type": "code",
   "execution_count": null,
   "metadata": {
    "collapsed": true
   },
   "outputs": [],
   "source": []
  }
 ],
 "metadata": {
  "kernelspec": {
   "display_name": "Python 3",
   "language": "python",
   "name": "python3"
  },
  "language_info": {
   "codemirror_mode": {
    "name": "ipython",
    "version": 3
   },
   "file_extension": ".py",
   "mimetype": "text/x-python",
   "name": "python",
   "nbconvert_exporter": "python",
   "pygments_lexer": "ipython3",
   "version": "3.6.1"
  },
  "varInspector": {
   "cols": {
    "lenName": 16,
    "lenType": 16,
    "lenVar": 40
   },
   "kernels_config": {
    "python": {
     "delete_cmd_postfix": "",
     "delete_cmd_prefix": "del ",
     "library": "var_list.py",
     "varRefreshCmd": "print(var_dic_list())"
    },
    "r": {
     "delete_cmd_postfix": ") ",
     "delete_cmd_prefix": "rm(",
     "library": "var_list.r",
     "varRefreshCmd": "cat(var_dic_list()) "
    }
   },
   "types_to_exclude": [
    "module",
    "function",
    "builtin_function_or_method",
    "instance",
    "_Feature"
   ],
   "window_display": false
  }
 },
 "nbformat": 4,
 "nbformat_minor": 2
}
